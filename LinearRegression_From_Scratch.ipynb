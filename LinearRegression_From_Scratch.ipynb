{
  "nbformat": 4,
  "nbformat_minor": 0,
  "metadata": {
    "colab": {
      "provenance": [],
      "authorship_tag": "ABX9TyOVSzMCTvwL+ZwcB8YhjgL1",
      "include_colab_link": true
    },
    "kernelspec": {
      "name": "python3",
      "display_name": "Python 3"
    },
    "language_info": {
      "name": "python"
    }
  },
  "cells": [
    {
      "cell_type": "markdown",
      "metadata": {
        "id": "view-in-github",
        "colab_type": "text"
      },
      "source": [
        "<a href=\"https://colab.research.google.com/github/bhushanmandava/linearRegression_Scratch/blob/main/LinearRegression_From_Scratch.ipynb\" target=\"_parent\"><img src=\"https://colab.research.google.com/assets/colab-badge.svg\" alt=\"Open In Colab\"/></a>"
      ]
    },
    {
      "cell_type": "markdown",
      "source": [
        "# Linear Reg from Scratch"
      ],
      "metadata": {
        "id": "Cv-JdXPEdfCX"
      }
    },
    {
      "cell_type": "markdown",
      "source": [
        "### import library"
      ],
      "metadata": {
        "id": "MRcMb1srdp4C"
      }
    },
    {
      "cell_type": "code",
      "execution_count": 10,
      "metadata": {
        "id": "YDbdyOyWcvnU"
      },
      "outputs": [],
      "source": [
        "import numpy as np\n",
        "import pandas as pd\n",
        "import matplotlib.pyplot as plt"
      ]
    },
    {
      "cell_type": "markdown",
      "source": [
        "### importing DataSet"
      ],
      "metadata": {
        "id": "QpPndbYedy5t"
      }
    },
    {
      "cell_type": "code",
      "source": [
        "dataset =pd.read_csv('Salary_Data.csv')"
      ],
      "metadata": {
        "id": "3837sNOGdyWb"
      },
      "execution_count": 11,
      "outputs": []
    },
    {
      "cell_type": "markdown",
      "source": [
        "### writing loss Function"
      ],
      "metadata": {
        "id": "7pA-XCGZd6WV"
      }
    },
    {
      "cell_type": "code",
      "source": [
        "def loss(m,b,points):\n",
        "  total_error=0\n",
        "  for i in range(len(points)):\n",
        "    x=points.iloc[i,0]\n",
        "    y=points.iloc[i,1]\n",
        "    total_error+=(y-(m*x+b))**2\n",
        "  return total_error/float(len(points))"
      ],
      "metadata": {
        "id": "kYn7k6a7d5oj"
      },
      "execution_count": 12,
      "outputs": []
    },
    {
      "cell_type": "markdown",
      "source": [
        "### Gradient Descent Function"
      ],
      "metadata": {
        "id": "fPF9-F0weTyx"
      }
    },
    {
      "cell_type": "code",
      "source": [
        "def gradient_descent(m1,b1,points,learning_rate):\n",
        "  m_gradient=0\n",
        "  b_gradient=0\n",
        "  n=float(len(points))\n",
        "  for i in range(len(points)):\n",
        "    x=points.iloc[i,0]\n",
        "    y=points.iloc[i,1]\n",
        "    m_gradient+= -(2/n)*(y-(m1*x+b1))*x\n",
        "    b_gradient+= -(2/n)*(y-(m1*x+b1))\n",
        "\n",
        "  m= m1-learning_rate*m_gradient\n",
        "  b= b1-learning_rate*b_gradient\n",
        "  return m,b\n",
        "\n",
        "m=0\n",
        "b=0\n",
        "l=0.001\n",
        "epoch=300\n",
        "\n",
        "for i in range(epoch):\n",
        "    m, b = gradient_descent(m, b, dataset, l)\n",
        "    if (i % 50 == 0):\n",
        "        print(f\"epoch: {i}\")\n",
        "        print(\"loss:\", loss(m, b, dataset))\n",
        "\n",
        "\n",
        "\n",
        "print(m,b)"
      ],
      "metadata": {
        "colab": {
          "base_uri": "https://localhost:8080/"
        },
        "id": "J4kSChGbefYh",
        "outputId": "c693515d-09a6-4987-ff25-49e7a5dfc98e"
      },
      "execution_count": 13,
      "outputs": [
        {
          "output_type": "stream",
          "name": "stdout",
          "text": [
            "epoch: 0\n",
            "loss: 5602610942.7051\n",
            "epoch: 50\n",
            "loss: 151791129.39287323\n",
            "epoch: 100\n",
            "loss: 144303027.0059337\n",
            "epoch: 150\n",
            "loss: 139618809.76079735\n",
            "epoch: 200\n",
            "loss: 135129855.83889148\n",
            "epoch: 250\n",
            "loss: 130826884.05669676\n",
            "12569.148667412612 4772.831286045466\n"
          ]
        }
      ]
    },
    {
      "cell_type": "markdown",
      "source": [
        "### ploting"
      ],
      "metadata": {
        "id": "mZ7zeGMwgdIr"
      }
    },
    {
      "cell_type": "code",
      "source": [
        "plt.scatter(dataset.iloc[:,0],dataset.iloc[:,1])\n",
        "plt.plot(dataset.iloc[:,0],m*dataset.iloc[:,0]+b)\n",
        "plt.show()"
      ],
      "metadata": {
        "colab": {
          "base_uri": "https://localhost:8080/",
          "height": 430
        },
        "id": "0mTsuk1ngf-2",
        "outputId": "dc4cb700-03a7-4987-a8ee-b8ed353a1edc"
      },
      "execution_count": 14,
      "outputs": [
        {
          "output_type": "display_data",
          "data": {
            "text/plain": [
              "<Figure size 640x480 with 1 Axes>"
            ],
            "image/png": "[encoded data removed]"
          },
          "metadata": {}
        }
      ]
    }
  ]
}